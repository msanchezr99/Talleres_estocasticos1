{
 "cells": [
  {
   "cell_type": "markdown",
   "metadata": {},
   "source": [
    "\n",
    "Versión estocástica modelo SIS (Susceptibles-Infectados-Susceptibles) considera el proceso de infección como una cadena de Markov, donde $I_{N(t)}$ representa el número de infectados para el tiempo t de una población cerrada de $N$ individuos. $S_{N(t)}=N-I_{N(t)}$ será el número de susceptibles para ese mismo tiempo.\n",
    "\n",
    "Representando la cadena con las tasas de transición $$q(i,j)=\\begin{cases} \\lambda \\frac{(N-i)i}{N} &\\text{si } j=i+1\\\\ \\mu i & \\text{si } j=i-1 \\end{cases}$$\n",
    "Donde $\\lambda$ es la tasa de infección y $\\mu$ es la tasa de recuperación.\n",
    "\n",
    "**Problema 1**\n",
    "El sentido de las tasas está sujeto a las simplificaciones que estemos dispuestos a aceptar. La recuperación a tasa constante puede tener sentido en muchos escenarios epidiemológicos. Adicionalmente, la tasa de infección toma en consideración y será proporcional tanto al número $i$ de infectados, como al número de susceptibles $N-i$.\n",
    "\n",
    "**Problema 2**\n",
    "Como derivamos en clase, la medida estacionaria para un proceso de nacimiento y muerte será dada por la fórmula para la medida del primer estado $\\pi_0$ y para los sucesivos $\\pi_k$  $$\\pi_0=\\frac{1}{1+\\sum_{n=1}^{N}{\\frac{\\lambda_0 \\cdot...\\cdot \\lambda_{n-1}}{  \\mu_{0} \\cdot...\\cdot \\mu_n }}}$$ \n",
    "\n",
    "$$\\pi_k=\\frac{\\lambda_{k-1}\\pi_{k-1}}{\\mu_{k}}=\\frac{\\lambda_0\\cdot...\\cdot\\lambda_{k-1}\\pi_0}{\\mu_0\\cdot...\\cdot\\mu_{k}}=\\frac{\\lambda_0...\\lambda_{k-1}}{\\mu_0\\cdot...\\cdot\\mu_{k}(1+\\sum_{n=1}^{N}{\\frac{\\lambda_0 \\cdot...\\cdot \\lambda_{n-1}}{  \\mu_{0} \\cdot...\\cdot \\mu_n }})}$$\n",
    "\n",
    "Donde $\\lambda_i$ es la tasa $q(i,j)$ Como consideramos estados desde $1$ y los $lambda_i"
   ]
  },
  {
   "cell_type": "markdown",
   "metadata": {},
   "source": [
    "**Problema 3**\n",
    "\n",
    "Simular con $\\frac{\\lambda}{\\mu}=0.5$, $\\frac{\\lambda}{\\mu}=1$, $\\frac{\\lambda}{\\mu}=2$\n",
    "Tomando a $\\lambda_i=\\sum_{i\\neq j}{q(i,j)}$, simulo el vector $v_t$ de tiempos de salto como exponenciales de tasa $\\lambda_i$ y el vector de estados $s$ con probabilidad de pasar a j cuando se abandona el estado i \n",
    "\n",
    "$$r(i,j)=\\frac{q(i,j)}{\\lambda_i}=\\begin{cases} \\frac{1}{\\lambda_i}\\lambda \\frac{(N-i)i}{N} &\\text{si } j=i+1\\\\ \\frac{1}{\\lambda_i}\\mu i & \\text{si } j=i-1 \\end{cases}$$\n",
    "\n",
    "Donde $\\lambda_i=(\\lambda \\frac{(N-i)}{N}+\\mu)i$. Como sólo me indican las razones entre $\\lambda$ y $\\mu$ tomaré siempre $\\mu=1$.\n",
    "\n",
    "Como resultado de las simulaciones se observan dos comportamientos. En primer lugar el estimado de tiempo de colapso al estado $I_{N(t)}=0$ no depende exclusivamente de la razón entre $\\lambda$ y $\\mu$. Con valores $\\mu=2$ y $\\lambda=1$ el promedio de tiempos es diferente ($\\bar{t}=2.22$) a $\\lambda=0.5$ y $\\mu=1$ ($\\bar{t}=4.29$) o $\\lambda=4$ y $\\mu=8$ ($\\bar{t}=0.58$). Fijando $\\mu=1$, con $\\frac{\\lambda}{\\mu}=1$ el tiempo medio de colapso al estado $0$ se estima puntualmente como $13.07$. En cambio con $\\frac{\\lambda}{\\mu}=2$ la cadena no colapsa al estado 0 (se simularon hasta 10000 saltos)."
   ]
  },
  {
   "cell_type": "code",
   "execution_count": 124,
   "metadata": {},
   "outputs": [
    {
     "data": {
      "image/png": "[encoded data removed]",
      "text/plain": [
       "<Figure size 432x288 with 1 Axes>"
      ]
     },
     "metadata": {
      "needs_background": "light"
     },
     "output_type": "display_data"
    },
    {
     "name": "stdout",
     "output_type": "stream",
     "text": [
      "107\n",
      "71.94244396525494\n"
     ]
    },
    {
     "data": {
      "image/png": "[encoded data removed]",
      "text/plain": [
       "<Figure size 432x288 with 1 Axes>"
      ]
     },
     "metadata": {
      "needs_background": "light"
     },
     "output_type": "display_data"
    }
   ],
   "source": [
    "#Guía de uso de librería fitter en: https://onezero.blog/finding-the-best-distribution-that-fits-your-data-using-pythons-fitter-library/\n",
    "import numpy as np\n",
    "import math as m\n",
    "#from fitter import Fitter, get_common_distributions\n",
    "#get_common_distributions()\n",
    "import matplotlib.pyplot as plt\n",
    "\n",
    "def bern_try(p):\n",
    "    u=np.random.uniform()\n",
    "    return u<=p \n",
    "\n",
    "\n",
    "def simulador_SIS(lam,mu=1,inicial=10,N=100,iter_max=1000):\n",
    "    \"\"\"\"\n",
    "    Parámetros:\n",
    "    lam: tasa lambda que es factor de la tasa de incremento\n",
    "    mu: tasa mu que es factor de la tasa de decaimiento. Por defecto =100\n",
    "    N: tamaño de la población. Por defecto=100\n",
    "    inicial: cantidad de infectados en la que se inicia la simulación. No puede ser 0 ni N. Por defecto=10\n",
    "    \n",
    "    Retorna el vector v_t de tiempos y el vector de estados simulados.\"\"\"\n",
    "    #q_incr=lambda i,lam,mu,N:(lam/N)*(N-i)*i/((lam*(N-i)/N+mu)*i)\n",
    "    lam_i=lambda i,lam,mu,N:(lam*(N-i)/N+mu)*i\n",
    "    r_decr=lambda i,lam,mu,N:(mu*i)/((lam*(N-i)/N+mu)*i) \n",
    "    v_t=[0]#Vector de tiempos\n",
    "    estados=[inicial] #Vector de estados simulados\n",
    "    i=inicial\n",
    "    \n",
    "    for iter in range(iter_max):\n",
    "        if i==0:\n",
    "            break\n",
    "        #print(lam_i(i,lam,mu,N),r_decr(i,lam,mu,N),i)\n",
    "        t_i=np.random.exponential(1/lam_i(i,lam,mu,N)) #Recibe como parámetro 1/tasa\n",
    "        v_t.append(v_t[-1]+t_i)\n",
    "        # if i==N:\n",
    "        #     estados.append(N-1)\n",
    "        #     i-=1\n",
    "        #     continue\n",
    "        descenso=bern_try(r_decr(i,lam,mu,N))#Cuando i=N r_decr=1 (probabilidad 1 de descender)\n",
    "        #print(descenso)\n",
    "        i=i-1 if descenso else i+1 \n",
    "        estados.append(i)\n",
    "    \n",
    "    return v_t,estados\n",
    "##Punto 3\n",
    "lam=2\n",
    "v_t,est=simulador_SIS(lam,mu=2,iter_max=10000)\n",
    "plt.plot(v_t,est)\n",
    "plt.show()\n",
    "print(len(v_t))\n",
    "\n",
    "\n",
    "##Punto 4\n",
    "lam=0.08\n",
    "\n",
    "iter=2000\n",
    "tiempos=[]\n",
    "for i in range(iter):\n",
    "    tiemp_sim,est=simulador_SIS(lam,mu=0.1)\n",
    "    tiempos.append(tiemp_sim[-1])\n",
    "    \n",
    "print(np.mean(tiempos))\n",
    "##Punto 5\n",
    "plt.hist(tiempos,bins=40)\n",
    "plt.show()\n",
    "\n",
    "# f = Fitter(tiempos)\n",
    "# f.fit()\n",
    "# # may take some time since by default, all distributions are tried\n",
    "# # but you call manually provide a smaller set of distributions\n",
    "# f.summary()\n"
   ]
  },
  {
   "cell_type": "code",
   "execution_count": null,
   "metadata": {},
   "outputs": [],
   "source": [
    "from fitter import Fitter, get_common_distributions\n",
    "get_common_distributions()"
   ]
  }
 ],
 "metadata": {
  "kernelspec": {
   "display_name": "Python 3.9.7 ('base')",
   "language": "python",
   "name": "python3"
  },
  "language_info": {
   "codemirror_mode": {
    "name": "ipython",
    "version": 3
   },
   "file_extension": ".py",
   "mimetype": "text/x-python",
   "name": "python",
   "nbconvert_exporter": "python",
   "pygments_lexer": "ipython3",
   "version": "3.9.7"
  },
  "orig_nbformat": 4,
  "vscode": {
   "interpreter": {
    "hash": "957668f77d739aed3606dc0cb3e6b9836150d21e7c3a979985571ea2faa3bd84"
   }
  }
 },
 "nbformat": 4,
 "nbformat_minor": 2
}
