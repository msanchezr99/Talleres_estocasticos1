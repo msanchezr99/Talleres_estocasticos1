{
  "nbformat": 4,
  "nbformat_minor": 0,
  "metadata": {
    "colab": {
      "provenance": [],
      "authorship_tag": "ABX9TyNnXEG5phfqWk9+BTjeNKyy",
      "include_colab_link": true
    },
    "kernelspec": {
      "name": "python3",
      "display_name": "Python 3"
    },
    "language_info": {
      "name": "python"
    }
  },
  "cells": [
    {
      "cell_type": "markdown",
      "metadata": {
        "id": "view-in-github",
        "colab_type": "text"
      },
      "source": [
        "<a href=\"https://colab.research.google.com/github/msanchezr99/Talleres_estocasticos1/blob/master/Taller_2_fitted.ipynb\" target=\"_parent\"><img src=\"https://colab.research.google.com/assets/colab-badge.svg\" alt=\"Open In Colab\"/></a>"
      ]
    },
    {
      "cell_type": "markdown",
      "source": [
        "\n",
        "Versión estocástica modelo SIS (Susceptibles-Infectados-Susceptibles) considera el proceso de infección como una cadena de Markov, donde $I_{N(t)}$ representa el número de infectados para el tiempo t de una población cerrada de $N$ individuos. $S_{N(t)}=N-I_{N(t)}$ será el número de susceptibles para ese mismo tiempo.\n",
        "\n",
        "Representando la cadena con las tasas de transición $$q(i,j)=\\begin{cases} \\lambda \\frac{(N-i)i}{N} &\\text{si } j=i+1\\\\ \\mu i & \\text{si } j=i-1 \\end{cases}$$\n",
        "Donde $\\lambda$ es la tasa de infección y $\\mu$ es la tasa de recuperación.\n",
        "\n",
        "**Problema 1**\n",
        "El sentido de las tasas está sujeto a las simplificaciones que estemos dispuestos a aceptar. La recuperación a tasa constante puede tener sentido en muchos escenarios epidiemológicos. Adicionalmente, la tasa de infección toma en consideración y será proporcional tanto al número $i$ de infectados, como al número de susceptibles $N-i$.\n",
        "\n",
        "**Problema 2**\n",
        "Como derivamos en clase, la medida estacionaria para un proceso de nacimiento y muerte será dada por la fórmula para la medida del primer estado $\\pi_0$ y para los sucesivos $\\pi_k$  $$\\pi_0=\\frac{1}{1+\\sum_{n=1}^{N}{\\frac{\\lambda_0 \\cdot...\\cdot \\lambda_{n-1}}{  \\mu_{0} \\cdot...\\cdot \\mu_n }}}$$ \n",
        "\n",
        "$$\\pi_k=\\frac{\\lambda_{k-1}\\pi_{k-1}}{\\mu_{k}}=\\frac{\\lambda_0\\cdot...\\cdot\\lambda_{k-1}\\pi_0}{\\mu_0\\cdot...\\cdot\\mu_{k}}=\\frac{\\lambda_0...\\lambda_{k-1}}{\\mu_0\\cdot...\\cdot\\mu_{k}(1+\\sum_{n=1}^{N}{\\frac{\\lambda_0 \\cdot...\\cdot \\lambda_{n-1}}{  \\mu_{0} \\cdot...\\cdot \\mu_n }})}$$\n",
        "\n",
        "Donde $\\lambda_i$ es la tasa $q(i,i+1)$ y $\\mu_i=q(i,i-1)$. Como consideramos estados desde $1$ y la fórmula queda\n",
        "\n",
        "\n",
        "\n",
        "**Problema 3**\n",
        "\n",
        "Simular con $\\frac{\\lambda}{\\mu}=0.5$, $\\frac{\\lambda}{\\mu}=1$, $\\frac{\\lambda}{\\mu}=2$\n",
        "Tomando a $\\lambda_i=\\sum_{i\\neq j}{q(i,j)}$, simulo el vector $v_t$ de tiempos de salto como exponenciales de tasa $\\lambda_i$ y el vector de estados $s$ con probabilidad de pasar a j cuando se abandona el estado i \n",
        "\n",
        "$$r(i,j)=\\frac{q(i,j)}{\\lambda_i}=\\begin{cases} \\frac{1}{\\lambda_i}\\lambda \\frac{(N-i)i}{N} &\\text{si } j=i+1\\\\ \\frac{1}{\\lambda_i}\\mu i & \\text{si } j=i-1 \\end{cases}$$\n",
        "\n",
        "Donde $\\lambda_i=(\\lambda \\frac{(N-i)}{N}+\\mu)i$. Como sólo me indican las razones entre $\\lambda$ y $\\mu$ tomaré siempre $\\mu=1$.\n",
        "\n",
        "Como resultado de las simulaciones se observan dos comportamientos. En primer lugar el estimado de tiempo de colapso al estado $I_{N(t)}=0$ no depende exclusivamente de la razón entre $\\lambda$ y $\\mu$. Con valores $\\mu=2$ y $\\lambda=1$ el promedio de tiempos es diferente ($\\bar{t}=2.22$) a $\\lambda=0.5$ y $\\mu=1$ ($\\bar{t}=4.29$) o $\\lambda=4$ y $\\mu=8$ ($\\bar{t}=0.58$). Fijando $\\mu=1$, con $\\frac{\\lambda}{\\mu}=1$ el tiempo medio de colapso al estado $0$ se estima puntualmente como $13.07$. En cambio con $\\frac{\\lambda}{\\mu}=2$ la cadena no colapsa al estado 0 (se simularon hasta 10000 saltos).\n",
        "\n",
        "**Problema 4**\n",
        "El estimado de tiempo de colapso es de 70 para los parámetros dados.\n",
        "\n",
        "**Problema 5**\n",
        "Se ajusta una distirbución lognormal de parámetros (0.5578615354097105, -2.552706604470502, 62.067143464253064)"
      ],
      "metadata": {
        "id": "Pqyj3wC88Bze"
      }
    },
    {
      "cell_type": "code",
      "execution_count": null,
      "metadata": {
        "colab": {
          "base_uri": "https://localhost:8080/",
          "height": 1000
        },
        "id": "pCjL_1VZY7ZV",
        "outputId": "ae4a6d17-4fb6-4733-beda-a7573a123cdc"
      },
      "outputs": [
        {
          "output_type": "display_data",
          "data": {
            "text/plain": [
              "<Figure size 432x288 with 1 Axes>"
            ],
            "image/png": "[encoded data removed]"
          },
          "metadata": {
            "needs_background": "light"
          }
        },
        {
          "output_type": "stream",
          "name": "stdout",
          "text": [
            "641\n",
            "69.91801528687782\n"
          ]
        },
        {
          "output_type": "display_data",
          "data": {
            "text/plain": [
              "<Figure size 432x288 with 1 Axes>"
            ],
            "image/png": "[encoded data removed]"
          },
          "metadata": {
            "needs_background": "light"
          }
        },
        {
          "output_type": "stream",
          "name": "stderr",
          "text": [
            "Fitting 12 distributions:  67%|██████▋   | 8/12 [00:44<00:22,  5.57s/it]WARNING:root:SKIPPED burr distribution (taking more than 30 seconds)\n",
            "Fitting 12 distributions: 100%|██████████| 12/12 [00:51<00:00,  4.26s/it]\n"
          ]
        },
        {
          "output_type": "execute_result",
          "data": {
            "text/plain": [
              "          sumsquare_error          aic           bic  kl_div  ks_statistic  \\\n",
              "lognorm          0.000029  1466.263245 -36082.458719     inf      0.009738   \n",
              "chi2             0.000047  1528.105497 -35104.577046     inf      0.027740   \n",
              "gamma            0.000047  1528.104644 -35104.565674     inf      0.027741   \n",
              "beta             0.000050  1519.019612 -34962.451299     inf      0.029468   \n",
              "rayleigh         0.000205  1810.746333 -32175.091103     inf      0.104487   \n",
              "\n",
              "             ks_pvalue  \n",
              "lognorm   9.904900e-01  \n",
              "chi2      9.038754e-02  \n",
              "gamma     9.036679e-02  \n",
              "beta      6.079813e-02  \n",
              "rayleigh  1.822536e-19  "
            ],
            "text/html": [
              "\n",
              "  <div id=\"df-8683b625-dfa7-4664-9c90-693945ad5297\">\n",
              "    <div class=\"colab-df-container\">\n",
              "      <div>\n",
              "<style scoped>\n",
              "    .dataframe tbody tr th:only-of-type {\n",
              "        vertical-align: middle;\n",
              "    }\n",
              "\n",
              "    .dataframe tbody tr th {\n",
              "        vertical-align: top;\n",
              "    }\n",
              "\n",
              "    .dataframe thead th {\n",
              "        text-align: right;\n",
              "    }\n",
              "</style>\n",
              "<table border=\"1\" class=\"dataframe\">\n",
              "  <thead>\n",
              "    <tr style=\"text-align: right;\">\n",
              "      <th></th>\n",
              "      <th>sumsquare_error</th>\n",
              "      <th>aic</th>\n",
              "      <th>bic</th>\n",
              "      <th>kl_div</th>\n",
              "      <th>ks_statistic</th>\n",
              "      <th>ks_pvalue</th>\n",
              "    </tr>\n",
              "  </thead>\n",
              "  <tbody>\n",
              "    <tr>\n",
              "      <th>lognorm</th>\n",
              "      <td>0.000029</td>\n",
              "      <td>1466.263245</td>\n",
              "      <td>-36082.458719</td>\n",
              "      <td>inf</td>\n",
              "      <td>0.009738</td>\n",
              "      <td>9.904900e-01</td>\n",
              "    </tr>\n",
              "    <tr>\n",
              "      <th>chi2</th>\n",
              "      <td>0.000047</td>\n",
              "      <td>1528.105497</td>\n",
              "      <td>-35104.577046</td>\n",
              "      <td>inf</td>\n",
              "      <td>0.027740</td>\n",
              "      <td>9.038754e-02</td>\n",
              "    </tr>\n",
              "    <tr>\n",
              "      <th>gamma</th>\n",
              "      <td>0.000047</td>\n",
              "      <td>1528.104644</td>\n",
              "      <td>-35104.565674</td>\n",
              "      <td>inf</td>\n",
              "      <td>0.027741</td>\n",
              "      <td>9.036679e-02</td>\n",
              "    </tr>\n",
              "    <tr>\n",
              "      <th>beta</th>\n",
              "      <td>0.000050</td>\n",
              "      <td>1519.019612</td>\n",
              "      <td>-34962.451299</td>\n",
              "      <td>inf</td>\n",
              "      <td>0.029468</td>\n",
              "      <td>6.079813e-02</td>\n",
              "    </tr>\n",
              "    <tr>\n",
              "      <th>rayleigh</th>\n",
              "      <td>0.000205</td>\n",
              "      <td>1810.746333</td>\n",
              "      <td>-32175.091103</td>\n",
              "      <td>inf</td>\n",
              "      <td>0.104487</td>\n",
              "      <td>1.822536e-19</td>\n",
              "    </tr>\n",
              "  </tbody>\n",
              "</table>\n",
              "</div>\n",
              "      <button class=\"colab-df-convert\" onclick=\"convertToInteractive('df-8683b625-dfa7-4664-9c90-693945ad5297')\"\n",
              "              title=\"Convert this dataframe to an interactive table.\"\n",
              "              style=\"display:none;\">\n",
              "        \n",
              "  <svg xmlns=\"http://www.w3.org/2000/svg\" height=\"24px\"viewBox=\"0 0 24 24\"\n",
              "       width=\"24px\">\n",
              "    <path d=\"M0 0h24v24H0V0z\" fill=\"none\"/>\n",
              "    <path d=\"M18.56 5.44l.94 2.06.94-2.06 2.06-.94-2.06-.94-.94-2.06-.94 2.06-2.06.94zm-11 1L8.5 8.5l.94-2.06 2.06-.94-2.06-.94L8.5 2.5l-.94 2.06-2.06.94zm10 10l.94 2.06.94-2.06 2.06-.94-2.06-.94-.94-2.06-.94 2.06-2.06.94z\"/><path d=\"M17.41 7.96l-1.37-1.37c-.4-.4-.92-.59-1.43-.59-.52 0-1.04.2-1.43.59L10.3 9.45l-7.72 7.72c-.78.78-.78 2.05 0 2.83L4 21.41c.39.39.9.59 1.41.59.51 0 1.02-.2 1.41-.59l7.78-7.78 2.81-2.81c.8-.78.8-2.07 0-2.86zM5.41 20L4 18.59l7.72-7.72 1.47 1.35L5.41 20z\"/>\n",
              "  </svg>\n",
              "      </button>\n",
              "      \n",
              "  <style>\n",
              "    .colab-df-container {\n",
              "      display:flex;\n",
              "      flex-wrap:wrap;\n",
              "      gap: 12px;\n",
              "    }\n",
              "\n",
              "    .colab-df-convert {\n",
              "      background-color: #E8F0FE;\n",
              "      border: none;\n",
              "      border-radius: 50%;\n",
              "      cursor: pointer;\n",
              "      display: none;\n",
              "      fill: #1967D2;\n",
              "      height: 32px;\n",
              "      padding: 0 0 0 0;\n",
              "      width: 32px;\n",
              "    }\n",
              "\n",
              "    .colab-df-convert:hover {\n",
              "      background-color: #E2EBFA;\n",
              "      box-shadow: 0px 1px 2px rgba(60, 64, 67, 0.3), 0px 1px 3px 1px rgba(60, 64, 67, 0.15);\n",
              "      fill: #174EA6;\n",
              "    }\n",
              "\n",
              "    [theme=dark] .colab-df-convert {\n",
              "      background-color: #3B4455;\n",
              "      fill: #D2E3FC;\n",
              "    }\n",
              "\n",
              "    [theme=dark] .colab-df-convert:hover {\n",
              "      background-color: #434B5C;\n",
              "      box-shadow: 0px 1px 3px 1px rgba(0, 0, 0, 0.15);\n",
              "      filter: drop-shadow(0px 1px 2px rgba(0, 0, 0, 0.3));\n",
              "      fill: #FFFFFF;\n",
              "    }\n",
              "  </style>\n",
              "\n",
              "      <script>\n",
              "        const buttonEl =\n",
              "          document.querySelector('#df-8683b625-dfa7-4664-9c90-693945ad5297 button.colab-df-convert');\n",
              "        buttonEl.style.display =\n",
              "          google.colab.kernel.accessAllowed ? 'block' : 'none';\n",
              "\n",
              "        async function convertToInteractive(key) {\n",
              "          const element = document.querySelector('#df-8683b625-dfa7-4664-9c90-693945ad5297');\n",
              "          const dataTable =\n",
              "            await google.colab.kernel.invokeFunction('convertToInteractive',\n",
              "                                                     [key], {});\n",
              "          if (!dataTable) return;\n",
              "\n",
              "          const docLinkHtml = 'Like what you see? Visit the ' +\n",
              "            '<a target=\"_blank\" href=https://colab.research.google.com/notebooks/data_table.ipynb>data table notebook</a>'\n",
              "            + ' to learn more about interactive tables.';\n",
              "          element.innerHTML = '';\n",
              "          dataTable['output_type'] = 'display_data';\n",
              "          await google.colab.output.renderOutput(dataTable, element);\n",
              "          const docLink = document.createElement('div');\n",
              "          docLink.innerHTML = docLinkHtml;\n",
              "          element.appendChild(docLink);\n",
              "        }\n",
              "      </script>\n",
              "    </div>\n",
              "  </div>\n",
              "  "
            ]
          },
          "metadata": {},
          "execution_count": 6
        },
        {
          "output_type": "display_data",
          "data": {
            "text/plain": [
              "<Figure size 432x288 with 1 Axes>"
            ],
            "image/png": "[encoded data removed]"
          },
          "metadata": {
            "needs_background": "light"
          }
        }
      ],
      "source": [
        "import numpy as np\n",
        "import math as m\n",
        "from fitter import Fitter, get_common_distributions\n",
        "import matplotlib.pyplot as plt\n",
        "\n",
        "#Código de manejo librería fitter: https://onezero.blog/finding-the-best-distribution-that-fits-your-data-using-pythons-fitter-library/\n",
        "\n",
        "def bern_try(p):\n",
        "    u=np.random.uniform()\n",
        "    return u<=p \n",
        "\n",
        "\n",
        "def simulador_SIS(lam,mu=1,inicial=10,N=100,iter_max=1000):\n",
        "    \"\"\"\"\n",
        "    Parámetros:\n",
        "    lam: tasa lambda que es factor de la tasa de incremento\n",
        "    mu: tasa mu que es factor de la tasa de decaimiento. Por defecto =100\n",
        "    N: tamaño de la población. Por defecto=100\n",
        "    inicial: cantidad de infectados en la que se inicia la simulación. No puede ser 0 ni N. Por defecto=10\n",
        "    \n",
        "    Retorna el vector v_t de tiempos y el vector de estados simulados.\"\"\"\n",
        "    #q_incr=lambda i,lam,mu,N:(lam/N)*(N-i)*i/((lam*(N-i)/N+mu)*i)\n",
        "    lam_i=lambda i,lam,mu,N:(lam*(N-i)/N+mu)*i\n",
        "    r_decr=lambda i,lam,mu,N:(mu*i)/((lam*(N-i)/N+mu)*i) \n",
        "    v_t=[0]#Vector de tiempos\n",
        "    estados=[inicial] #Vector de estados simulados\n",
        "    i=inicial\n",
        "    \n",
        "    for iter in range(iter_max):\n",
        "        if i==0:\n",
        "            break\n",
        "        #print(lam_i(i,lam,mu,N),r_decr(i,lam,mu,N),i)\n",
        "        t_i=np.random.exponential(1/lam_i(i,lam,mu,N)) #Recibe como parámetro 1/tasa\n",
        "        v_t.append(v_t[-1]+t_i)\n",
        "        # if i==N:\n",
        "        #     estados.append(N-1)\n",
        "        #     i-=1\n",
        "        #     continue\n",
        "        descenso=bern_try(r_decr(i,lam,mu,N))#Cuando i=N r_decr=1 (probabilidad 1 de descender)\n",
        "        #print(descenso)\n",
        "        i=i-1 if descenso else i+1 \n",
        "        estados.append(i)\n",
        "    \n",
        "    return v_t,estados\n",
        "##Punto 3\n",
        "lam=2\n",
        "v_t,est=simulador_SIS(lam,mu=2,iter_max=10000)\n",
        "plt.plot(v_t,est)\n",
        "plt.show()\n",
        "print(len(v_t))\n",
        "\n",
        "\n",
        "##Punto 4\n",
        "lam=0.08\n",
        "\n",
        "iter=2000\n",
        "tiempos=[]\n",
        "for i in range(iter):\n",
        "    tiemp_sim,est=simulador_SIS(lam,mu=0.1)\n",
        "    tiempos.append(tiemp_sim[-1])\n",
        "    \n",
        "print(np.mean(tiempos))\n",
        "##Punto 5\n",
        "plt.hist(tiempos,bins=40)\n",
        "plt.show()\n",
        "\n",
        "f = Fitter(tiempos,\n",
        "           distributions=['gamma',\n",
        "                          'lognorm',\n",
        "                          \"beta\",\n",
        "                          \"burr\",\n",
        "                          \"norm\",\n",
        "                          'cauchy',\n",
        "                          'chi2',\n",
        "                          'expon',\n",
        "                          'exponpow',\n",
        "                          'powerlaw',\n",
        "                          'rayleigh',\n",
        "                          'uniform'])\n",
        "f.fit()\n",
        "# may take some time since by default, all distributions are tried\n",
        "# but you call manually provide a smaller set of distributions\n",
        "f.summary()\n"
      ]
    },
    {
      "cell_type": "code",
      "source": [
        "f.get_best(method = 'sumsquare_error')\n"
      ],
      "metadata": {
        "colab": {
          "base_uri": "https://localhost:8080/"
        },
        "id": "uEfanexFbIvD",
        "outputId": "6e1d497e-0598-44d8-bcb4-bf38785e6ec9"
      },
      "execution_count": null,
      "outputs": [
        {
          "output_type": "execute_result",
          "data": {
            "text/plain": [
              "{'lognorm': {'s': 0.5578615354097105,\n",
              "  'loc': -2.552706604470502,\n",
              "  'scale': 62.067143464253064}}"
            ]
          },
          "metadata": {},
          "execution_count": 10
        }
      ]
    },
    {
      "cell_type": "code",
      "source": [
        "f.fitted_param[\"lognorm\"]"
      ],
      "metadata": {
        "colab": {
          "base_uri": "https://localhost:8080/"
        },
        "id": "Y0fk79UXcl_E",
        "outputId": "c7153bb5-24bd-4a5d-833c-5d4af1eb4fa8"
      },
      "execution_count": null,
      "outputs": [
        {
          "output_type": "execute_result",
          "data": {
            "text/plain": [
              "(0.5578615354097105, -2.552706604470502, 62.067143464253064)"
            ]
          },
          "metadata": {},
          "execution_count": 9
        }
      ]
    },
    {
      "cell_type": "code",
      "source": [
        "!pip install fitter"
      ],
      "metadata": {
        "colab": {
          "base_uri": "https://localhost:8080/"
        },
        "id": "GXJFV-a2ZFVA",
        "outputId": "63a6342d-2767-47ce-8b16-78a9a9c0bd87"
      },
      "execution_count": null,
      "outputs": [
        {
          "output_type": "stream",
          "name": "stdout",
          "text": [
            "Looking in indexes: https://pypi.org/simple, https://us-python.pkg.dev/colab-wheels/public/simple/\n",
            "Collecting fitter\n",
            "  Downloading fitter-1.5.1.tar.gz (27 kB)\n",
            "Requirement already satisfied: click in /usr/local/lib/python3.7/dist-packages (from fitter) (7.1.2)\n",
            "Requirement already satisfied: joblib in /usr/local/lib/python3.7/dist-packages (from fitter) (1.2.0)\n",
            "Requirement already satisfied: matplotlib in /usr/local/lib/python3.7/dist-packages (from fitter) (3.2.2)\n",
            "Requirement already satisfied: numpy in /usr/local/lib/python3.7/dist-packages (from fitter) (1.21.6)\n",
            "Requirement already satisfied: pandas in /usr/local/lib/python3.7/dist-packages (from fitter) (1.3.5)\n",
            "Requirement already satisfied: scipy>=0.18 in /usr/local/lib/python3.7/dist-packages (from fitter) (1.7.3)\n",
            "Requirement already satisfied: tqdm in /usr/local/lib/python3.7/dist-packages (from fitter) (4.64.1)\n",
            "Requirement already satisfied: kiwisolver>=1.0.1 in /usr/local/lib/python3.7/dist-packages (from matplotlib->fitter) (1.4.4)\n",
            "Requirement already satisfied: python-dateutil>=2.1 in /usr/local/lib/python3.7/dist-packages (from matplotlib->fitter) (2.8.2)\n",
            "Requirement already satisfied: cycler>=0.10 in /usr/local/lib/python3.7/dist-packages (from matplotlib->fitter) (0.11.0)\n",
            "Requirement already satisfied: pyparsing!=2.0.4,!=2.1.2,!=2.1.6,>=2.0.1 in /usr/local/lib/python3.7/dist-packages (from matplotlib->fitter) (3.0.9)\n",
            "Requirement already satisfied: typing-extensions in /usr/local/lib/python3.7/dist-packages (from kiwisolver>=1.0.1->matplotlib->fitter) (4.1.1)\n",
            "Requirement already satisfied: six>=1.5 in /usr/local/lib/python3.7/dist-packages (from python-dateutil>=2.1->matplotlib->fitter) (1.15.0)\n",
            "Requirement already satisfied: pytz>=2017.3 in /usr/local/lib/python3.7/dist-packages (from pandas->fitter) (2022.4)\n",
            "Building wheels for collected packages: fitter\n",
            "  Building wheel for fitter (setup.py) ... \u001b[?25l\u001b[?25hdone\n",
            "  Created wheel for fitter: filename=fitter-1.5.1-py3-none-any.whl size=25596 sha256=2d9974a0fc0e513e003968dd7123589b458da08cc2f9e3e85c9b00876a623188\n",
            "  Stored in directory: /root/.cache/pip/wheels/40/65/62/57b872ba7af36e70111b1f67cffe76f97c747804aff7665ccb\n",
            "Successfully built fitter\n",
            "Installing collected packages: fitter\n",
            "Successfully installed fitter-1.5.1\n"
          ]
        }
      ]
    }
  ]
}