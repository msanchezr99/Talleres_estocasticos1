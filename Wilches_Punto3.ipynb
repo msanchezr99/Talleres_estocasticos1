{
 "cells": [
  {
   "cell_type": "code",
   "execution_count": 2,
   "metadata": {},
   "outputs": [],
   "source": [
    "import numpy as np\n",
    "from scipy.sparse import diags\n",
    "import matplotlib.pyplot as plt\n",
    "import scipy "
   ]
  },
  {
   "cell_type": "markdown",
   "metadata": {},
   "source": [
    "# Problema 3"
   ]
  },
  {
   "cell_type": "code",
   "execution_count": 3,
   "metadata": {},
   "outputs": [],
   "source": [
    "\n",
    "def Q(cons_lamda,cons_mu,N):\n",
    "    N = N\n",
    "    def q(i,j):\n",
    "        if j == i+1:\n",
    "            return cons_lamda*i*(N-i)/N\n",
    "        elif j == i-1:\n",
    "            return cons_mu*i\n",
    "        else: \n",
    "            return 0 \n",
    "\n",
    "    def lambda_i(i):\n",
    "        if i == N:\n",
    "            return q(i,i-1)\n",
    "        else: \n",
    "            return q(i,i+1) + q(i,i-1)\n",
    "    \n",
    "    vec_sig =  [0]+[q(i,i+1) for i in range(1,N)]\n",
    "    vec_ant = [q(i,i-1) for i in range(1,N+1)]\n",
    "    lambdas = [lambda_i(i) for i in range(0,N+1)]\n",
    "    diagonals = [vec_sig,lambdas,vec_ant]\n",
    "    return  diags(diagonals, [1,0,-1 ]).toarray()"
   ]
  },
  {
   "cell_type": "code",
   "execution_count": 4,
   "metadata": {},
   "outputs": [],
   "source": [
    "\n",
    "def Simul(inicio,Q,N,n = np.inf):\n",
    "    actual = inicio\n",
    "    tiempos = [0] \n",
    "    infectados = [actual]\n",
    "    i = 0\n",
    "    while True and n > i:               \n",
    "        if actual == N:\n",
    "            t_i = np.random.exponential(1/Q[actual,actual])\n",
    "            tiempos.append(t_i+tiempos[-1])            \n",
    "            actual = actual-1\n",
    "        else:    \n",
    "            #P_sig = Q[actual,actual+1]/Q[actual,actual]\n",
    "            P_ant = Q[actual,actual-1]/Q[actual,actual]\n",
    "            t_i = np.random.exponential(1/Q[actual,actual])\n",
    "            tiempos.append(t_i+tiempos[-1])\n",
    "            \n",
    "            if np.random.rand() <=  P_ant:\n",
    "                actual = actual-1\n",
    "            else: \n",
    "                actual = actual+1\n",
    "        \n",
    "        infectados.append(actual)\n",
    "        if actual == 0:\n",
    "            break\n",
    "        i =+ 1\n",
    "    return tiempos,infectados"
   ]
  },
  {
   "cell_type": "code",
   "execution_count": 5,
   "metadata": {},
   "outputs": [],
   "source": [
    "N = 5\n",
    "Q_matrix = Q(cons_lamda=2,cons_mu=1,N=N)"
   ]
  },
  {
   "cell_type": "markdown",
   "metadata": {},
   "source": [
    "# Problema 4 y 5"
   ]
  },
  {
   "cell_type": "code",
   "execution_count": 6,
   "metadata": {},
   "outputs": [
    {
     "data": {
      "image/png": "[encoded data removed]",
      "text/plain": [
       "<Figure size 432x288 with 1 Axes>"
      ]
     },
     "metadata": {
      "needs_background": "light"
     },
     "output_type": "display_data"
    },
    {
     "data": {
      "text/plain": [
       "70.45997156497755"
      ]
     },
     "execution_count": 6,
     "metadata": {},
     "output_type": "execute_result"
    }
   ],
   "source": [
    "N = 100\n",
    "Q_matrix = Q(cons_lamda=0.08,cons_mu=0.1,N=N)\n",
    "extin = []\n",
    "tiempos = []\n",
    "for i in range(5000):\n",
    "    tiempos,infec = Simul(inicio=10,Q=Q_matrix,N=N)\n",
    "    extin.append(tiempos[-1])\n",
    "\n",
    "plt.hist(extin,bins=50)\n",
    "plt.show()\n",
    "\n",
    "np.mean(extin)"
   ]
  },
  {
   "cell_type": "code",
   "execution_count": 1,
   "metadata": {},
   "outputs": [
    {
     "ename": "NameError",
     "evalue": "name 'extin' is not defined",
     "output_type": "error",
     "traceback": [
      "\u001b[1;31m---------------------------------------------------------------------------\u001b[0m",
      "\u001b[1;31mNameError\u001b[0m                                 Traceback (most recent call last)",
      "\u001b[1;32m~\\AppData\\Local\\Temp/ipykernel_8676/850403988.py\u001b[0m in \u001b[0;36m<module>\u001b[1;34m\u001b[0m\n\u001b[0;32m      1\u001b[0m \u001b[1;32mfrom\u001b[0m \u001b[0mscipy\u001b[0m\u001b[1;33m.\u001b[0m\u001b[0mstats\u001b[0m \u001b[1;32mimport\u001b[0m \u001b[0mgamma\u001b[0m\u001b[1;33m\u001b[0m\u001b[1;33m\u001b[0m\u001b[0m\n\u001b[1;32m----> 2\u001b[1;33m \u001b[0mres\u001b[0m\u001b[1;33m=\u001b[0m \u001b[0mgamma\u001b[0m\u001b[1;33m.\u001b[0m\u001b[0mfit\u001b[0m\u001b[1;33m(\u001b[0m\u001b[0mextin\u001b[0m\u001b[1;33m)\u001b[0m\u001b[1;33m\u001b[0m\u001b[1;33m\u001b[0m\u001b[0m\n\u001b[0m",
      "\u001b[1;31mNameError\u001b[0m: name 'extin' is not defined"
     ]
    }
   ],
   "source": [
    "from scipy.stats import gamma\n",
    "res= gamma.fit(extin)"
   ]
  },
  {
   "cell_type": "code",
   "execution_count": null,
   "metadata": {},
   "outputs": [],
   "source": []
  }
 ],
 "metadata": {
  "kernelspec": {
   "display_name": "Python 3.9.7 ('base')",
   "language": "python",
   "name": "python3"
  },
  "language_info": {
   "codemirror_mode": {
    "name": "ipython",
    "version": 3
   },
   "file_extension": ".py",
   "mimetype": "text/x-python",
   "name": "python",
   "nbconvert_exporter": "python",
   "pygments_lexer": "ipython3",
   "version": "3.9.7"
  },
  "orig_nbformat": 4,
  "vscode": {
   "interpreter": {
    "hash": "957668f77d739aed3606dc0cb3e6b9836150d21e7c3a979985571ea2faa3bd84"
   }
  }
 },
 "nbformat": 4,
 "nbformat_minor": 2
}
