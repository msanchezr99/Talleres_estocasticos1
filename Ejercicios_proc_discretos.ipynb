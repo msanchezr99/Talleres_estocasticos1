{
 "cells": [
  {
   "cell_type": "markdown",
   "metadata": {},
   "source": [
    "# Ejercicios procesos estocásticos discretos\n",
    "\n",
    "### Clima como cadena de Markov:\n",
    "Siendo el estado 1 que llueve y 2 No llueve, la matriz de transición es\n",
    "$\\begin{bmatrix}\n",
    "0.6 & 0.4\\\\\n",
    "0.2 & 0.8 \n",
    "\\end{bmatrix}$\n",
    "Simular la evolución del sistema durante 100 días partiendo de que ayer fue un día despejado. "
   ]
  },
  {
   "cell_type": "code",
   "execution_count": 1,
   "metadata": {},
   "outputs": [],
   "source": [
    "import numpy as np\n",
    "\n",
    "\n",
    "trans_matrix=np.array([[0.6,0.4],[0.2,0.8]])\n",
    "probabs=trans_matrix[1,:] #Inicio en estado 2\n",
    "lista_estados=[0]\n",
    "for i in range(100):\n",
    "    u=np.random.uniform()\n",
    "    if u<=probabs[0]:\n",
    "        lista_estados.append(1)\n",
    "        probabs=trans_matrix[0,:]\n",
    "    else: \n",
    "        lista_estados.append(0)\n",
    "        probabs=trans_matrix[1,:]\n",
    "        \n",
    "\n",
    "\n"
   ]
  }
 ],
 "metadata": {
  "kernelspec": {
   "display_name": "base",
   "language": "python",
   "name": "python3"
  },
  "language_info": {
   "codemirror_mode": {
    "name": "ipython",
    "version": 3
   },
   "file_extension": ".py",
   "mimetype": "text/x-python",
   "name": "python",
   "nbconvert_exporter": "python",
   "pygments_lexer": "ipython3",
   "version": "3.10.9"
  },
  "orig_nbformat": 4
 },
 "nbformat": 4,
 "nbformat_minor": 2
}
