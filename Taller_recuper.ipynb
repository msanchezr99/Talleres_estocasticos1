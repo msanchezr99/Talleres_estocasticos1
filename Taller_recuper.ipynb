{
 "cells": [
  {
   "cell_type": "code",
   "execution_count": 13,
   "metadata": {},
   "outputs": [],
   "source": [
    "import numpy as np\n",
    "import scipy.stats\n",
    "import math as m\n",
    "import matplotlib.pyplot as plt"
   ]
  },
  {
   "cell_type": "markdown",
   "metadata": {},
   "source": [
    "La de datos de carbon.txt tiene 191 filas y 1 columna. Esta base de datos da las fechas de 191 explosiones en minas de carbón que resultaron en 10 o más muertes. El lapso de tiempo de los datos es desde el 15 de marzo de 1851 hasta el 22 de marzo de 1962.\n",
    "La fecha del desastre se encuentra en la variable date. La parte entera de la fecha da el año. El día se representa como la fracción del año que había transcurrido en ese día.\n",
    "\n",
    "# Pregunta 1. #\n",
    "Suponga que los datos provienen de una proceso de Poisson no-homogeneo. Estime la intensidad del proces\n",
    "\n",
    "# Definición\n",
    "Se define un proceso de Poisson no homogéneo a un proceso N(t) en los enteros no negativos, no decreciente y tal que su conteo inicia en cero: $ N(0)=0 $ (al igual que en el proceso homogéneo), la distribución de sus incrementos es $N(t+s)-N(t)~Poiss(\\int_{t}^{t+s}{\\lambda (t)})$, para $s,t>0$ y cuyos incrementos son independientes.\n",
    "\n",
    "\n",
    "\n",
    "# Solución\n",
    "Para empezar, debido a que un proceso de Poisson le concierne únicamente el tamaño de los intervalos, resto el año inicial para tener un vector de \"tiempos de falla\" registrados en el intervalo de tiempo $[0,112)$. Defino además el vector N de fallas acumuladas y un vector S de tiempos entre fallas $s_1=t_1, s_2=t_2-t_1$, y así $s_i=t_{i}-t_{i-1}$\n",
    "\n",
    "\n",
    "the intensity function $\\lambda(t)$, which is estimated by MLE method in the next sub-section, can be calculated. Based on the density for next arrival time can be derived. However, the numerical estimation is not trivial. We will not discuss how this can be estimated in the numeric form.\n",
    "\n",
    "Como se comprueba en la literatura consultada, la función de logverosimilitud para la una muestra {x_1,...,x_n} ordenada proveniente de un PPNH está dada por:\n",
    "\n",
    "$$l(λ) = log(L(λ)) = −\\int_0^t{\\lambda(x)}dx +\\sum_0^n{log λ(x_i)}$$\n",
    "\n",
    "Hallar esta función $\\lambda(t)$ no es práctico a menos que se restrinja a familias específicas de funciones."
   ]
  },
  {
   "cell_type": "code",
   "execution_count": 37,
   "metadata": {},
   "outputs": [
    {
     "data": {
      "image/png": "[encoded data removed]",
      "text/plain": [
       "<Figure size 432x288 with 1 Axes>"
      ]
     },
     "metadata": {
      "needs_background": "light"
     },
     "output_type": "display_data"
    }
   ],
   "source": [
    "datos=np.loadtxt('carbon.txt')\n",
    "datos=datos[:,1]\n",
    "\n",
    "#Los datos van a funcionar como los tiempos (eje x) y el rango funciona como contador\n",
    "data=np.concatenate(([0],datos-1851))\n",
    "\n",
    "a =np.vstack((data,range(len(data)))) #Primera fila:datos, segunda fila: contador N(t)\n",
    "\n",
    "\n",
    "plt.plot(a[0,:],a[1,:])\n",
    "plt.show()\n",
    "#Haciendo una partición en k subintervalos\n",
    "#Hallo n_i y el ancho h del intervalo. Estimo lambda_i=n_i/h\n",
    "\n",
    "\n",
    "# plt.plot(datos,range(len(datos))) #Con tiempos originales\n",
    "# plt.show()\n",
    "# plt.hist(data,60)\n",
    "# plt.show()"
   ]
  },
  {
   "cell_type": "markdown",
   "metadata": {},
   "source": [
    "Podemos ver que la tasa de falla es constante (aumento lineal) hasta el año 40, aproximadamente, luego de lo cual "
   ]
  },
  {
   "cell_type": "code",
   "execution_count": null,
   "metadata": {},
   "outputs": [],
   "source": []
  },
  {
   "cell_type": "markdown",
   "metadata": {},
   "source": [
    "# Referencias:\n",
    "\n",
    "Intensity Estimation for NonHomogeneous Poisson Processes Used to Model Real-Time Medication Event Monitor, Yan Wang. Disponible en: https://d1wqtxts1xzle7.cloudfront.net/36260419/Intensity_Estimation_for_Non-Homogeneous_Poisson_Processes_Used_to_Model_2014-with-cover-page-v2.pdf?Expires=1669244557&Signature=ZEzoKrLfIMUWcfrW0gjW-2zeY2jL-TceWCXtpGkj4VbmuS50n8X8LLHXVftpIscqEKZN2EfE3nEP8Gcg6Y2xp6oZ1kF9imCB5TjSbslnB-1QUdb4I88FQXFdrrO3JLti-FyJezI1m1lVcAt4mCmfwuKoY6jxeS2WymmuDc4ZlTEiKXZDKA32rvI8QEOllwrArIsf86VFqotE-a9gchpzTf3QAnHON68dyYaXU1Gc5KhFzA42RXZjKyMfdW~AWwTC74GHuIZj2iEYg0Nfah2gwhE~bdnVHld1ewXJegqNEieo0tzGu07UluS0Raa8Km9VykBfzwC0YK35XA6h4XoBaw__&Key-Pair-Id=APKAJLOHF5GGSLRBV4ZA\n",
    "\n",
    "\n",
    "Intensity estimation for Poisson processes. Ludwik Czeslaw Drazek. Disponible en:\n",
    "https://www1.maths.leeds.ac.uk/~voss/projects/2012-Poisson/Drazek.pdf\n",
    "\n"
   ]
  }
 ],
 "metadata": {
  "kernelspec": {
   "display_name": "Python 3.9.7 ('base')",
   "language": "python",
   "name": "python3"
  },
  "language_info": {
   "codemirror_mode": {
    "name": "ipython",
    "version": 3
   },
   "file_extension": ".py",
   "mimetype": "text/x-python",
   "name": "python",
   "nbconvert_exporter": "python",
   "pygments_lexer": "ipython3",
   "version": "3.9.7"
  },
  "orig_nbformat": 4,
  "vscode": {
   "interpreter": {
    "hash": "957668f77d739aed3606dc0cb3e6b9836150d21e7c3a979985571ea2faa3bd84"
   }
  }
 },
 "nbformat": 4,
 "nbformat_minor": 2
}
