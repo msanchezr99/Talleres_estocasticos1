{
 "cells": [
  {
   "cell_type": "markdown",
   "metadata": {},
   "source": [
    "# Ecuaciones diferenciales estocásticas\n"
   ]
  },
  {
   "cell_type": "markdown",
   "metadata": {},
   "source": [
    "# Diferenciales\n",
    "\n",
    "- Diferencial de potencia de $W_t$: Validación numérica de fórmul $d(W_t^p)=p(W_t^{p-2})(W_t dW_t+\\frac{p-1}{2}dt)$"
   ]
  },
  {
   "cell_type": "code",
   "execution_count": 12,
   "metadata": {},
   "outputs": [
    {
     "data": {
      "text/plain": [
       "array([ 0.        , -0.19232523, -0.21184974,  0.12764905, -0.13314022,\n",
       "        0.18065844, -0.0809214 , -0.01134121, -0.04959035,  0.15971758,\n",
       "        0.06170063,  0.02357141,  0.13469134, -0.03051183,  0.02196059,\n",
       "        0.10394103,  0.06632349, -0.01295609, -0.12927174,  0.00771083,\n",
       "        0.09963494, -0.15565584,  0.04407037,  0.04751327, -0.02916367,\n",
       "        0.05612666, -0.00491069,  0.00345061,  0.18296441, -0.00624007,\n",
       "       -0.00681372, -0.00327038,  0.15138231,  0.03857981,  0.07079415,\n",
       "       -0.0284642 ,  0.09909928, -0.01395976, -0.11331994, -0.09933638,\n",
       "        0.05325619,  0.1753269 , -0.22251388, -0.03698549, -0.08611079,\n",
       "       -0.09325823,  0.03293887,  0.11092276,  0.08502971, -0.00952573,\n",
       "       -0.04683831, -0.0215656 ,  0.01814149, -0.04295616,  0.03233652,\n",
       "       -0.03256786,  0.00089773, -0.07144102, -0.01281896,  0.09073641,\n",
       "        0.03069853,  0.08359659,  0.06186382, -0.05824859, -0.04263637,\n",
       "        0.12965408, -0.10845884, -0.06691896,  0.06906938, -0.09298555,\n",
       "       -0.03582349, -0.06607216,  0.01918208,  0.01484643,  0.12314932,\n",
       "        0.00326194,  0.28295577, -0.25249825,  0.06402488, -0.07828566,\n",
       "       -0.05991572,  0.02337307, -0.03621436,  0.17218432,  0.0810324 ,\n",
       "       -0.11187426,  0.08979786, -0.0931651 , -0.04368694,  0.06850247,\n",
       "       -0.00540057,  0.04601478,  0.05524911,  0.05631933,  0.15621918,\n",
       "       -0.02929683,  0.12260763, -0.11858292,  0.02174303,  0.02524615])"
      ]
     },
     "execution_count": 12,
     "metadata": {},
     "output_type": "execute_result"
    }
   ],
   "source": [
    "#Diferenciales\n",
    "import numpy as np\n",
    "import matplotlib.pyplot as plt \n",
    "import brownian_motion as bm\n",
    "\n",
    "T=1\n",
    "n=101\n",
    "p=5\n",
    "t=np.linspace(0,T,n)\n",
    "dt=T/(n-1)\n",
    "\n",
    "dW=bm.get_dB(n-1,dt=dt)\n",
    "W_0=0\n",
    "W=np.cumsum(dW)\n",
    "F_t=W**p #Elemento a elemento. Vector del proceso\n",
    "dF=np.diff\n",
    "dW\n",
    "\n"
   ]
  },
  {
   "cell_type": "code",
   "execution_count": 13,
   "metadata": {},
   "outputs": [
    {
     "data": {
      "text/plain": [
       "array([ 0.,  1.,  3.,  6., 10., 15.])"
      ]
     },
     "execution_count": 13,
     "metadata": {},
     "output_type": "execute_result"
    }
   ],
   "source": [
    "X_t=np.linspace(0,5,6)\n",
    "#F_t=X_t**2\n",
    "np.cumsum(X_t)\n"
   ]
  },
  {
   "cell_type": "code",
   "execution_count": 21,
   "metadata": {},
   "outputs": [
    {
     "data": {
      "text/plain": [
       "array([[0, 1, 2, 3, 4],\n",
       "       [0, 5, 6, 7, 8]])"
      ]
     },
     "execution_count": 21,
     "metadata": {},
     "output_type": "execute_result"
    }
   ],
   "source": [
    "import numpy as np \n",
    "\n",
    "bm.get_B_matrix(10,2)\n",
    "a=np.array([[1,2,3,4],[5,6,7,8]])\n",
    "a=np.insert(a,0,0,axis=1)\n",
    "a"
   ]
  }
 ],
 "metadata": {
  "kernelspec": {
   "display_name": "base",
   "language": "python",
   "name": "python3"
  },
  "language_info": {
   "codemirror_mode": {
    "name": "ipython",
    "version": 3
   },
   "file_extension": ".py",
   "mimetype": "text/x-python",
   "name": "python",
   "nbconvert_exporter": "python",
   "pygments_lexer": "ipython3",
   "version": "3.10.9"
  }
 },
 "nbformat": 4,
 "nbformat_minor": 2
}
