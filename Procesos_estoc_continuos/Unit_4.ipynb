{
 "cells": [
  {
   "cell_type": "code",
   "execution_count": 1,
   "metadata": {},
   "outputs": [],
   "source": [
    "import numpy as np\n",
    "import pandas as pd\n",
    "import matplotlib.pyplot as plt\n",
    "import brownian_motion as bm \n",
    "from scipy.stats import jarque_bera\n",
    "from scipy.stats import norm\n",
    "import statsmodels.api as sm\n",
    "from statsmodels.graphics.tsaplots import plot_acf, plot_pacf\n",
    "import yfinance as yf\n",
    "from pandas_datareader import data as pdr\n",
    "from datetime import datetime"
   ]
  },
  {
   "cell_type": "code",
   "execution_count": null,
   "metadata": {},
   "outputs": [],
   "source": [
    "N = norm.cdf\n",
    "kappa =4\n",
    "theta = 0.02\n",
    "v_0 =  0.02\n",
    "xi = 0.9\n",
    "r = 0.02\n",
    "S = 100\n",
    "paths =50000\n",
    "steps = 2000\n",
    "T = 1\n",
    "\n",
    "\n",
    "\n",
    "\n",
    "\n",
    "def get_Heston_matr():\n",
    "    \"\"\"Retornar d trayectorias de tamaño n\"\"\"\n",
    "    return None\n",
    "\n",
    "\n",
    "\n",
    "\n",
    "\n",
    "def generate_heston_paths(S, T, r, kappa, theta, v_0, rho, xi, \n",
    "                          steps, Npaths, return_vol=False):\n",
    "    dt = T/steps\n",
    "    size = (Npaths, steps)\n",
    "    prices = np.zeros(size)\n",
    "    sigs = np.zeros(size)\n",
    "    S_t = S\n",
    "    v_t = v_0\n",
    "    for t in range(steps):\n",
    "        WT = np.random.multivariate_normal(np.array([0,0]), \n",
    "                                           cov = np.array([[1,rho],\n",
    "                                                          [rho,1]]), \n",
    "                                           size=paths) * np.sqrt(dt) \n",
    "        \n",
    "        S_t = S_t*(np.exp( (r- 0.5*v_t)*dt+ np.sqrt(v_t) *WT[:,0] ) ) \n",
    "        v_t = np.abs(v_t + kappa*(theta-v_t)*dt + xi*np.sqrt(v_t)*WT[:,1])\n",
    "        prices[:, t] = S_t\n",
    "        sigs[:, t] = v_t\n",
    "    \n",
    "    if return_vol:\n",
    "        return prices, sigs"
   ]
  }
 ],
 "metadata": {
  "kernelspec": {
   "display_name": "base",
   "language": "python",
   "name": "python3"
  },
  "language_info": {
   "codemirror_mode": {
    "name": "ipython",
    "version": 3
   },
   "file_extension": ".py",
   "mimetype": "text/x-python",
   "name": "python",
   "nbconvert_exporter": "python",
   "pygments_lexer": "ipython3",
   "version": "3.10.9"
  }
 },
 "nbformat": 4,
 "nbformat_minor": 2
}
