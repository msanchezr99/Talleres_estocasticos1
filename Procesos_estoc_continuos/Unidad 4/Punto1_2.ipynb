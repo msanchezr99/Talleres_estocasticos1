{
 "cells": [
  {
   "cell_type": "code",
   "execution_count": null,
   "metadata": {},
   "outputs": [],
   "source": [
    "import numpy as np \n",
    "import pandas as pd\n",
    "import math\n",
    "import matplotlib.pyplot as plt"
   ]
  },
  {
   "cell_type": "code",
   "execution_count": 9,
   "metadata": {},
   "outputs": [
    {
     "name": "stdout",
     "output_type": "stream",
     "text": [
      "14.483774308978006\n"
     ]
    }
   ],
   "source": [
    "S0 = 50  # Precio actual del activo\n",
    "sigma = 0.4  # Volatilidad (20%)\n",
    "r = 0.05  # Tasa de interés libre de riesgo (5%)\n",
    "K = 40  # Precio de ejercicio\n",
    "T = 1  # Tiempo hasta el vencimiento (1 año)\n",
    "N = 200\n",
    "dt = T/N\n",
    "\n",
    "# Cálculo de u, d y p\n",
    "u = np.exp(sigma * np.sqrt(dt))\n",
    "d = np.exp(-sigma * np.sqrt(dt))\n",
    "p = (np.exp(r * dt) - d) / (u - d)\n",
    "\n",
    "# Inicialización de la matriz de precios del subyacente y opciones\n",
    "S_t = np.zeros((N + 1, N + 1))\n",
    "f_call = np.zeros((N + 1, N + 1))\n",
    "\n",
    "# Rellenar la matriz de precios del subyacente\n",
    "for i in range(N + 1):\n",
    "    for j in range(i + 1):\n",
    "        S_t[i, j] = S0 * u**j * d**(i - j)\n",
    "\n",
    "# Condiciones finales de la opción call\n",
    "f_call[-1, :] = np.maximum(S_t[-1, :]-K, 0)\n",
    "\n",
    "# Cálculo hacia atrás de la opción call americana\n",
    "for i in range(N - 1, -1, -1):\n",
    "    for j in range(i + 1):\n",
    "        f_call[i, j] = np.maximum((np.exp(-r * dt)) * ((1 - p) * f_call[i + 1, j] + p * f_call[i + 1, j + 1]), np.maximum(S_t[i, j-1]-K , 0))\n",
    "\n",
    "# Valor de la opción en el tiempo t=0\n",
    "print(f_call[0, 0])\n"
   ]
  }
 ],
 "metadata": {
  "kernelspec": {
   "display_name": "Python 3",
   "language": "python",
   "name": "python3"
  },
  "language_info": {
   "codemirror_mode": {
    "name": "ipython",
    "version": 3
   },
   "file_extension": ".py",
   "mimetype": "text/x-python",
   "name": "python",
   "nbconvert_exporter": "python",
   "pygments_lexer": "ipython3",
   "version": "3.9.12"
  }
 },
 "nbformat": 4,
 "nbformat_minor": 2
}
