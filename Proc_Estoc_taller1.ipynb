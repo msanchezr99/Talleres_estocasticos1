{
 "cells": [
  {
   "cell_type": "code",
   "execution_count": 1,
   "metadata": {},
   "outputs": [],
   "source": [
    "import numpy as np\n",
    "import math \n",
    "import matplotlib.pyplot as plt\n",
    "import scipy.stats"
   ]
  },
  {
   "cell_type": "markdown",
   "metadata": {},
   "source": [
    "**Problema 1**"
   ]
  },
  {
   "cell_type": "code",
   "execution_count": 21,
   "metadata": {},
   "outputs": [
    {
     "data": {
      "image/png": "[encoded data removed]",
      "text/plain": [
       "<Figure size 432x288 with 1 Axes>"
      ]
     },
     "metadata": {
      "needs_background": "light"
     },
     "output_type": "display_data"
    }
   ],
   "source": [
    "\n",
    "#Definición cadena de Markov\n",
    "# def markov(beta,T,n):\n",
    "#     \"\"\"Parámetros:\n",
    "#     beta: constante \n",
    "#     T: tiempo máximo de la simulación de la cadena de Markov\n",
    "#     El método, a través de la cadena de markov definida por\n",
    "#     x[t]=beta*x[t-1]+e_t con e_t distribuido normal(0,1)\n",
    "#     genera un vector con n simulaciones del proceso.\"\"\"\n",
    "#     vect=np.zeros(n) #Resultado de la simulación\n",
    "#     for j in range(n): #cada valor simulado\n",
    "#         x=0\n",
    "#         for i in range(T):\n",
    "#             x=beta*x+ np.random.randn()\n",
    "#         vect[j]=x\n",
    "#     return vect                   Duda!! No son múltiples cadenas, sino una!?\n",
    "\n",
    "def markov(beta,n):\n",
    "    e=np.random.normal(0,1,n)\n",
    "    x=[e[0]]\n",
    "    for i in range(1,n):\n",
    "        x.append(x[i-1]*beta+ e[i])\n",
    "    return x\n",
    "\n",
    "beta=0.9\n",
    "n=100000\n",
    "T=1000\n",
    "muestra_comparativa=np.random.normal(0,1/(1-beta**2),size=n) #parece coincidir con 1/(1-beta**4)\n",
    "muestra_simul=markov(beta,n)\n",
    "\n",
    "bins = np.linspace(-15, 15, 100)\n",
    "\n",
    "plt.hist(muestra_comparativa, bins, alpha=0.5, label='x')\n",
    "plt.hist(muestra_simul, bins, alpha=0.5, label='y')\n",
    "plt.legend(loc='upper right')\n",
    "plt.show()\n"
   ]
  },
  {
   "cell_type": "markdown",
   "metadata": {},
   "source": [
    "Luego de varias pruebas no conseguimos hacer que coincidiera la distribución de la simulación con el muestreo comparativo. "
   ]
  },
  {
   "cell_type": "markdown",
   "metadata": {},
   "source": [
    "\n",
    "**Punto 2**\n",
    "\n",
    "Al querer simular datos de una función $Beta(2,6)$, propongo la distribución $q(x)= Unif(0,1)$ que contiene el intervalo de definición de la función deseada para simular los $Y_t$. A partir de estos valores se establece la probabilidad $\\rho(x,y)=min\\{\\frac{f(y)q(x|y)}{f(x)q(y|x)},1 \\}$ y el proceso de Markov: $$ X_{t+1}= \n",
    "\\begin{cases} \n",
    "Y_t & con probabilidad & \\rho(x_t,Y_t)\\\\\n",
    "X_t & con probabilidad & 1-\\rho(x_t,Y_t) \n",
    "\\end{cases}$$"
   ]
  },
  {
   "cell_type": "code",
   "execution_count": 24,
   "metadata": {},
   "outputs": [
    {
     "name": "stderr",
     "output_type": "stream",
     "text": [
      "C:\\Users\\marti\\AppData\\Local\\Temp/ipykernel_21728/3026203765.py:23: RuntimeWarning: divide by zero encountered in double_scalars\n",
      "  rho=scipy.stats.beta.pdf(y_t,alfa,beta)/scipy.stats.beta.pdf(x[i-1],alfa,beta) #q(x) en este caso es 1\n"
     ]
    },
    {
     "data": {
      "image/png": "[encoded data removed]",
      "text/plain": [
       "<Figure size 432x288 with 1 Axes>"
      ]
     },
     "metadata": {
      "needs_background": "light"
     },
     "output_type": "display_data"
    },
    {
     "data": {
      "text/plain": [
       "KstestResult(statistic=0.04133333333333333, pvalue=0.011881272113249542)"
      ]
     },
     "execution_count": 24,
     "metadata": {},
     "output_type": "execute_result"
    }
   ],
   "source": [
    "def probabilidad(p):\n",
    "    \"\"\"recibe p en intervalo [0,1] para hacer una prueba Bernoulli\"\"\"\n",
    "    x=np.random.uniform()\n",
    "    if x<=p:\n",
    "        return True\n",
    "    else:\n",
    "        return False\n",
    "\n",
    "# def metrop_hasting_beta(alfa,beta,T,n):\n",
    "#     vect=np.zeros(n)\n",
    "#     for j in range(n):\n",
    "#         x=np.random.uniform()\n",
    "#         for i in range(1,T):\n",
    "#             y_t=np.random.uniform()\n",
    "#             rho=scipy.stats.beta.pdf(y_t,alfa,beta)/scipy.stats.beta.pdf(x,alfa,beta) #q(x) en este caso es 1\n",
    "#             x=y_t if probabilidad(rho) else x\n",
    "#         vect[j]=x\n",
    "#     return vect\n",
    "def metrop_hasting_beta(alfa,beta,n):\n",
    "    x=np.zeros(n)\n",
    "    for i in range(1,n):\n",
    "        y_t=np.random.uniform()\n",
    "        rho=scipy.stats.beta.pdf(y_t,alfa,beta)/scipy.stats.beta.pdf(x[i-1],alfa,beta) #q(x) en este caso es 1\n",
    "        x[i]=y_t if probabilidad(rho) else x[i-1]\n",
    "    \n",
    "    return x\n",
    "\n",
    "n=3000\n",
    "T=200\n",
    "alfa=2\n",
    "beta=6\n",
    "muestra_comparativa=np.random.beta(alfa,beta,n) \n",
    "muestra_simul=metrop_hasting_beta(alfa,beta,n)\n",
    "\n",
    "bins = np.linspace(-0.5,1.5 , 100)\n",
    "\n",
    "plt.hist(muestra_comparativa, bins, alpha=0.5, label='x')\n",
    "plt.hist(muestra_simul, bins, alpha=0.5, label='y')\n",
    "plt.legend(loc='upper right')\n",
    "plt.show()\n",
    "\n",
    "scipy.stats.ks_2samp(muestra_comparativa,muestra_simul)\n"
   ]
  },
  {
   "cell_type": "markdown",
   "metadata": {},
   "source": [
    "Debido al p valor de la prueba Kolmogorov Smirnov, concluimos que las muestras coinciden y provienen de una misma distribución."
   ]
  },
  {
   "cell_type": "markdown",
   "metadata": {},
   "source": [
    "**Problema 3**\n",
    "\n",
    "Habiendo observado datos que provienen de una distribución dependiente de un parámetro $\\theta$: $p(y|\\theta)$, suponiendo una distribución a priori $p(\\theta)$, sabemos por Bayes que su producto es proporcional a la distribución a posteriori $p(\\theta|y)$. \n",
    "\n",
    "Al querer hacer muestras de esta distirbución a posteriori, hacemos uso del algoritmo de metropolis hasting. Conocemos la distribución $p(\\theta|y)$ sólo por medio de la relación proporcional. Usamos la distribución $p(\\theta)$ también como distribución candidata $q$ del algoritmo.\n",
    "\n",
    "El algoritmo de Metropolis Hasting nos ayuda justamente a estimar de distribuciones objetivo que sólo conocemos bajo proporcionalidad (desconocemos la constante normalizadora: $p(y)$ en este caso). "
   ]
  },
  {
   "cell_type": "code",
   "execution_count": 39,
   "metadata": {},
   "outputs": [
    {
     "data": {
      "text/plain": [
       "2.117681999999998"
      ]
     },
     "execution_count": 39,
     "metadata": {},
     "output_type": "execute_result"
    }
   ],
   "source": [
    "\n",
    "alfa=0.7\n",
    "data_simulada=(1-alfa)*np.random.normal(7,0.5,100)+alfa*np.random.normal(10,0.5,100)\n",
    "#suponiendo alfa distribuida Unif(0,1)  (equivalente a Beta(1,1))\n",
    "#Sampleo de la distribución a posteriori\n",
    "n=100\n",
    "def likelihood(data_y):\n",
    "    #p(y|theta)\n",
    "    pass\n",
    "def f():\n",
    "    \"\"\"Será el producto de la distr a priori con la distribución p(y|theta)\"\"\"\n",
    "    pass\n",
    "\n",
    "def metrop_hasting_beta(alfa,beta,n):\n",
    "    x=np.zeros(n)\n",
    "    for i in range(1,n):\n",
    "        y_t=np.random.uniform()\n",
    "        rho=f(y_t)*scipy.stats.beta.pdf(y_t,alfa,beta)/f(x[i-1])*scipy.stats.beta.pdf(x[i-1],alfa,beta) #q(x) en este caso es 1\n",
    "        x[i]=y_t if probabilidad(rho) else x[i-1]\n",
    "    \n",
    "    return x\n",
    "    \n",
    "muestra_hast=metrop_hasting_beta(1,1,n)\n",
    "\n"
   ]
  }
 ],
 "metadata": {
  "kernelspec": {
   "display_name": "Python 3.9.7 ('base')",
   "language": "python",
   "name": "python3"
  },
  "language_info": {
   "name": "python",
   "version": "3.9.7"
  },
  "orig_nbformat": 4,
  "vscode": {
   "interpreter": {
    "hash": "957668f77d739aed3606dc0cb3e6b9836150d21e7c3a979985571ea2faa3bd84"
   }
  }
 },
 "nbformat": 4,
 "nbformat_minor": 2
}
