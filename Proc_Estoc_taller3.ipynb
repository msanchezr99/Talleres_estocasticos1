{
 "cells": [
  {
   "cell_type": "markdown",
   "metadata": {},
   "source": [
    "# Taller 3\n",
    "# Punto 1\n",
    "Considere $\\zeta_1,...$ una secuencia de v.a. independientes y con esperanza finita y sea $S_n=\\sum_{i=1}^n\\zeta_i$\n",
    "Fijando n, muestre que $M_m=\\frac{S_{n-m}}{n-m}$ con $0<m<n$ es martingala con respecto a $S_n$. \n",
    "\n",
    "Para esto asumo en primer lugar que los $\\zeta_i$ tienen igual esperanza (o igual esperanza condicional). En primer lugar llamamos $A$ al evento ${M_m=m_m,...,M_0=m_0}$. Mostramos primero $$ E(\\zeta_i |A) =M_n$$ \n",
    "Pues $E(\\zeta_i|A)=\\frac{n-m}{n-m}E(\\zeta_i|A)=\\frac{1}{n-m}\\sum_{i=1}^{n-m}E(\\zeta_i|A)$ por el supupesto de partida. Esto además es, por linealidad del valor esperado, igual a $E(\\frac{\\sum_{i=1}^{n-m}\\zeta_i}{n-m}|A)=E(M_m|A)=M_m$ puesto que es dado por el evento A.\n",
    "Así, el resultado deseado se obtiene directamente como:\n",
    "$$ E(M_{m+1}|A)=E(\\frac{S_{n-m-1}}{n-m-1}|A)=\\frac{1}{n-m-1}E(S_{n-m}-\\zeta_i|A) $$\n",
    "$$ =\\frac{n-m}{n-m-1}E(\\zeta_i|A)-\\frac{1}{n-m-1}E(\\zeta_i|A)=E(\\zeta_i|A)=M_m$$\n",
    "\n",
    "\n",
    "# Punto 2\n",
    "En una votación con $n=a+b$ votos totales, el candidato A con $a>b$ votos a favor gana la contienda. Deseamos evidenciar en simulación que la probabilidad de que el candidato A siempre lidere durante el conteo es de $(a-b)/n$. Para evidenciar esto con simulación, lo más sensato es probar con distintas proporciones en los resultados de votación. La proposición indica que la propbabilidad es igual a la diferencia porcentual, por lo que tomaré ese valor como referencia (variable delta_porc) simulamos escenarios1000 escenarios"
   ]
  },
  {
   "cell_type": "code",
   "execution_count": 23,
   "metadata": {},
   "outputs": [
    {
     "name": "stdout",
     "output_type": "stream",
     "text": [
      "Diferencia porcentual:  0.02  Probabilidad siulada:  0.0185\n",
      "Diferencia porcentual:  0.05  Probabilidad siulada:  0.05\n",
      "Diferencia porcentual:  0.1  Probabilidad siulada:  0.1027\n",
      "Diferencia porcentual:  0.5  Probabilidad siulada:  0.5016\n",
      "Diferencia porcentual:  0.7  Probabilidad siulada:  0.7025\n"
     ]
    }
   ],
   "source": [
    "import numpy as np\n",
    "\n",
    "def simulacion_votos(n,delta_porc):\n",
    "    a=int(n*(1+delta_porc)/2)\n",
    "    b=n-a\n",
    "    votos=np.concatenate((np.ones(a),np.zeros(b)))\n",
    "    np.random.shuffle(votos)\n",
    "    conteo_a=0\n",
    "    conteo_b=0\n",
    "    a_lidera=1\n",
    "    i=0\n",
    "    while a_lidera and i< n:\n",
    "        if votos[i]==1:\n",
    "            conteo_a+=1\n",
    "        else:\n",
    "            conteo_b+=1\n",
    "        if conteo_a<=conteo_b:\n",
    "            a_lidera=0\n",
    "        i+=1\n",
    "    return a_lidera\n",
    "\n",
    "deltas=[0.02,0.05,0.1,0.5,0.7]\n",
    "n=200\n",
    "iteraciones=10000\n",
    "vector_sim=np.zeros(iteraciones)\n",
    "for delta_porc in deltas:\n",
    "    for iter in range(iteraciones):\n",
    "        vector_sim[iter]=simulacion_votos(n,delta_porc)\n",
    "    prob=sum(vector_sim)/iteraciones\n",
    "    print(\"Diferencia porcentual: \",delta_porc,\" Probabilidad siulada: \",prob)"
   ]
  },
  {
   "cell_type": "markdown",
   "metadata": {},
   "source": [
    "# Punto 3\n",
    "Probar, con el teorema de parada opcional, el enunciado del punto 2.\n",
    "Consideramos los eventos $\\zeta_i=0$ y $\\zeta_i=2$ representando votos por a y por b, respectivamente.Ambos con probabilidad $\\frac{1}{2}$. Siendo $G=\\{S_j<j, \\forall j\\}$.\n",
    "\n",
    "Nos interesa la probabilidad $P(G|S_n=2b)$"
   ]
  }
 ],
 "metadata": {
  "kernelspec": {
   "display_name": "Python 3.9.7 ('base')",
   "language": "python",
   "name": "python3"
  },
  "language_info": {
   "codemirror_mode": {
    "name": "ipython",
    "version": 3
   },
   "file_extension": ".py",
   "mimetype": "text/x-python",
   "name": "python",
   "nbconvert_exporter": "python",
   "pygments_lexer": "ipython3",
   "version": "3.9.7 (default, Sep 16 2021, 16:59:28) [MSC v.1916 64 bit (AMD64)]"
  },
  "orig_nbformat": 4,
  "vscode": {
   "interpreter": {
    "hash": "957668f77d739aed3606dc0cb3e6b9836150d21e7c3a979985571ea2faa3bd84"
   }
  }
 },
 "nbformat": 4,
 "nbformat_minor": 2
}
