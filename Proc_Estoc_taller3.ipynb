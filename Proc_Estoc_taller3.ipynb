{
 "cells": [
  {
   "cell_type": "markdown",
   "metadata": {},
   "source": [
    "# Taller 3\n",
    "# Punto 1\n",
    "Considere $\\zeta_1,...$ una secuencia de v.a. independientes y con esperanza finita y sea $S_n=\\sum_{i=1}^n\\zeta_n$\n",
    "Fijando n, muestre que $M_m=\\frac{S_{n-m}}{n-m}$ con $0<m<n$ es martingala con respecto a $S_n$.\n",
    "Usando la definición, basta mostrar que $$E(M_{n+1}-M_n|S_n=s_n,...,S_0=s_0,M_0=m_0)=0$$\n",
    "\n",
    "# Punto 2\n",
    "En una votación con $n=a+b$ votos totales, el candidato A con $a>b$ votos a favor gana la contienda. Deseamos evidenciar en simulación que la probabilidad de que el candidato A siempre lidere durante el conteo es de $(a-b)/n$. Para esto simulamos "
   ]
  },
  {
   "cell_type": "code",
   "execution_count": null,
   "metadata": {},
   "outputs": [],
   "source": []
  }
 ],
 "metadata": {
  "kernelspec": {
   "display_name": "Python 3.9.7 ('base')",
   "language": "python",
   "name": "python3"
  },
  "language_info": {
   "name": "python",
   "version": "3.9.7"
  },
  "orig_nbformat": 4,
  "vscode": {
   "interpreter": {
    "hash": "957668f77d739aed3606dc0cb3e6b9836150d21e7c3a979985571ea2faa3bd84"
   }
  }
 },
 "nbformat": 4,
 "nbformat_minor": 2
}
