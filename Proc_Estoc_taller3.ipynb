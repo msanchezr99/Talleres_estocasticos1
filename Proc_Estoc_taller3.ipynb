{
 "cells": [
  {
   "cell_type": "markdown",
   "metadata": {},
   "source": [
    "# Taller 3\n",
    "# Punto 1\n",
    "Considere $\\zeta_1,...$ una secuencia de v.a. independientes y con esperanza finita y sea $S_n=\\sum_{i=1}^n\\zeta_n$\n",
    "Fijando n, muestre que $M_m=\\frac{S_{n-m}}{n-m}$ con $0<m<n$ es martingala con respecto a $S_n$.\n",
    "Usando la definición, basta mostrar que $$E(M_{n+1}-M_n|S_n=s_n,...,S_0=s_0,M_0=m_0)=0$$\n",
    "\n",
    "# Punto 2\n",
    "En una votación con $n=a+b$ votos totales, el candidato A con $a>b$ votos a favor gana la contienda. Deseamos evidenciar en simulación que la probabilidad de que el candidato A siempre lidere durante el conteo es de $(a-b)/n$. Para evidenciar esto con simulación, lo más sensato es probar con distintas proporciones en los resultados de votación. La proposición indica que la propbabilidad es igual a la diferencia porcentual, por lo que tomaré ese valor como referencia (variable delta_porc) simulamos escenarios1000 escenarios"
   ]
  },
  {
   "cell_type": "code",
   "execution_count": 23,
   "metadata": {},
   "outputs": [
    {
     "name": "stdout",
     "output_type": "stream",
     "text": [
      "Diferencia porcentual:  0.02  Probabilidad siulada:  0.0185\n",
      "Diferencia porcentual:  0.05  Probabilidad siulada:  0.05\n",
      "Diferencia porcentual:  0.1  Probabilidad siulada:  0.1027\n",
      "Diferencia porcentual:  0.5  Probabilidad siulada:  0.5016\n",
      "Diferencia porcentual:  0.7  Probabilidad siulada:  0.7025\n"
     ]
    }
   ],
   "source": [
    "import numpy as np\n",
    "\n",
    "def simulacion_votos(n,delta_porc):\n",
    "    a=int(n*(1+delta_porc)/2)\n",
    "    b=n-a\n",
    "    votos=np.concatenate((np.ones(a),np.zeros(b)))\n",
    "    np.random.shuffle(votos)\n",
    "    conteo_a=0\n",
    "    conteo_b=0\n",
    "    a_lidera=1\n",
    "    i=0\n",
    "    while a_lidera and i< n:\n",
    "        if votos[i]==1:\n",
    "            conteo_a+=1\n",
    "        else:\n",
    "            conteo_b+=1\n",
    "        if conteo_a<=conteo_b:\n",
    "            a_lidera=0\n",
    "        i+=1\n",
    "    return a_lidera\n",
    "\n",
    "deltas=[0.02,0.05,0.1,0.5,0.7]\n",
    "n=200\n",
    "iteraciones=10000\n",
    "vector_sim=np.zeros(iteraciones)\n",
    "for delta_porc in deltas:\n",
    "    for iter in range(iteraciones):\n",
    "        vector_sim[iter]=simulacion_votos(n,delta_porc)\n",
    "    prob=sum(vector_sim)/iteraciones\n",
    "    print(\"Diferencia porcentual: \",delta_porc,\" Probabilidad siulada: \",prob)"
   ]
  }
 ],
 "metadata": {
  "kernelspec": {
   "display_name": "Python 3.9.7 ('base')",
   "language": "python",
   "name": "python3"
  },
  "language_info": {
   "codemirror_mode": {
    "name": "ipython",
    "version": 3
   },
   "file_extension": ".py",
   "mimetype": "text/x-python",
   "name": "python",
   "nbconvert_exporter": "python",
   "pygments_lexer": "ipython3",
   "version": "3.9.7"
  },
  "orig_nbformat": 4,
  "vscode": {
   "interpreter": {
    "hash": "957668f77d739aed3606dc0cb3e6b9836150d21e7c3a979985571ea2faa3bd84"
   }
  }
 },
 "nbformat": 4,
 "nbformat_minor": 2
}
